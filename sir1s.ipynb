{
 "cells": [
  {
   "cell_type": "code",
   "execution_count": 17,
   "id": "e0e960bb-0981-4b6c-8bee-1f4a3d516f3c",
   "metadata": {},
   "outputs": [],
   "source": [
    "using Catalyst\n",
    "using DifferentialEquations\n",
    "using ReactionNetworkImporters\n",
    "using WGLMakie\n",
    "using Latexify\n"
   ]
  },
  {
   "cell_type": "markdown",
   "id": "72b6e395-d1f8-4f50-9cda-f1b076db9440",
   "metadata": {},
   "source": [
    "## The modified SIR1S model"
   ]
  },
  {
   "cell_type": "code",
   "execution_count": 20,
   "id": "3ac10e37-cb90-45ff-a072-472fd1cc97b2",
   "metadata": {},
   "outputs": [
    {
     "data": {
      "text/latex": [
       "$$ \\begin{align}\n",
       "\\frac{\\mathrm{d} s\\left( t \\right)}{\\mathrm{d}t} &= \\lambda + r\\left( t \\right) \\gamma_r - s\\left( t \\right) \\gamma_s - s\\left( t \\right) \\mu - i\\left( t \\right) s\\left( t \\right) \\beta \\\\\n",
       "\\frac{\\mathrm{d} i\\left( t \\right)}{\\mathrm{d}t} &=  - i\\left( t \\right) \\gamma - i\\left( t \\right) \\mu + r\\left( t \\right) i\\left( t \\right) \\beta_r + i\\left( t \\right) s\\left( t \\right) \\beta \\\\\n",
       "\\frac{\\mathrm{d} r\\left( t \\right)}{\\mathrm{d}t} &=  - r\\left( t \\right) \\gamma_r - r\\left( t \\right) \\mu + i\\left( t \\right) \\gamma + s\\left( t \\right) \\gamma_s - r\\left( t \\right) i\\left( t \\right) \\beta_r\n",
       "\\end{align}\n",
       " $$"
      ],
      "text/plain": [
       "\u001b[0m\u001b[1mModel ##ReactionSystem#232 with 3 \u001b[22m\u001b[0m\u001b[1mequations\u001b[22m\n",
       "\u001b[0m\u001b[1mStates (3):\u001b[22m\n",
       "  s(t)\n",
       "  i(t)\n",
       "  r(t)\n",
       "\u001b[0m\u001b[1mParameters (7):\u001b[22m\n",
       "  λ\n",
       "  β\n",
       "  βᵣ\n",
       "  γ\n",
       "  γᵣ\n",
       "  γₛ\n",
       "⋮"
      ]
     },
     "execution_count": 20,
     "metadata": {},
     "output_type": "execute_result"
    }
   ],
   "source": [
    "@parameters  λ β βᵣ γ γᵣ γₛ μ μ μ\n",
    "@variables t \n",
    "@species s(t) i(t) r(t) \n",
    "species = [s,i,r]\n",
    "pars = [λ, β, βᵣ, γ, γᵣ, γₛ, μ,μ,μ]\n",
    "stoic = [1 -1 0 0 1 -1 -1 0 0;0 1 1 -1 0 0 0 -1 0;0 0 -1 1 -1 1 0 0 -1]\n",
    "substoich =[0 1 0 0 0 1 1 0 0;0 1 1 1 0 0 0 1 0;0 0 1 0 1 0 0 0 1] \n",
    "prodstoich = stoic + substoich\n",
    "\n",
    "mn = MatrixNetwork(pars, substoich, prodstoich; species = species, params = pars)\n",
    "prn = loadrxnetwork(mn)\n",
    "rn = complete(prn.rn)\n",
    "odesys=convert(ODESystem,rn)\n",
    "reactioncomplexes(rn)\n",
    "odesys"
   ]
  },
  {
   "cell_type": "code",
   "execution_count": 21,
   "id": "ac43cfa1-f5bc-4ff1-b700-030847309532",
   "metadata": {},
   "outputs": [
    {
     "data": {
      "text/plain": [
       "2"
      ]
     },
     "execution_count": 21,
     "metadata": {},
     "output_type": "execute_result"
    }
   ],
   "source": [
    "deficiency(rn)"
   ]
  },
  {
   "cell_type": "markdown",
   "id": "fafe7167-c612-4283-a548-14e895c10489",
   "metadata": {},
   "source": [
    "## The SIR1S model"
   ]
  },
  {
   "cell_type": "code",
   "execution_count": 31,
   "id": "f912e586-28a3-460e-897f-62b68572645e",
   "metadata": {},
   "outputs": [
    {
     "data": {
      "text/latex": [
       "$$ \\begin{align}\n",
       "\\frac{\\mathrm{d} s\\left( t \\right)}{\\mathrm{d}t} &= \\lambda + r\\left( t \\right) \\gamma_r - s\\left( t \\right) \\mu - i\\left( t \\right) s\\left( t \\right) \\beta \\\\\n",
       "\\frac{\\mathrm{d} i\\left( t \\right)}{\\mathrm{d}t} &=  - i\\left( t \\right) \\gamma - i\\left( t \\right) \\mu + r\\left( t \\right) i\\left( t \\right) \\beta_r + i\\left( t \\right) s\\left( t \\right) \\beta \\\\\n",
       "\\frac{\\mathrm{d} r\\left( t \\right)}{\\mathrm{d}t} &=  - r\\left( t \\right) \\gamma_r - r\\left( t \\right) \\mu + i\\left( t \\right) \\gamma - r\\left( t \\right) i\\left( t \\right) \\beta_r\n",
       "\\end{align}\n",
       " $$"
      ],
      "text/plain": [
       "\u001b[0m\u001b[1mModel ##ReactionSystem#235 with 3 \u001b[22m\u001b[0m\u001b[1mequations\u001b[22m\n",
       "\u001b[0m\u001b[1mStates (3):\u001b[22m\n",
       "  s(t)\n",
       "  i(t)\n",
       "  r(t)\n",
       "\u001b[0m\u001b[1mParameters (6):\u001b[22m\n",
       "  λ\n",
       "  β\n",
       "  βᵣ\n",
       "  γ\n",
       "  γᵣ\n",
       "  μ"
      ]
     },
     "execution_count": 31,
     "metadata": {},
     "output_type": "execute_result"
    }
   ],
   "source": [
    "@parameters  λ β βᵣ γ γᵣ μ μ μ\n",
    "@variables t \n",
    "@species s(t) i(t) r(t) \n",
    "species = [s,i,r]\n",
    "pars = [λ, β, βᵣ, γ, γᵣ, μ,μ,μ]\n",
    "stoic_g = stoic[:,1:end .!=6]\n",
    "substoich_g = substoich[:,1:end .!=6]\n",
    "prodstoich_g = stoic_g + substoich_g\n",
    "\n",
    "mn_g = MatrixNetwork(pars, substoich_g, prodstoich_g; species = species, params = pars)\n",
    "prn_g = loadrxnetwork(mn_g)\n",
    "rn_g = complete(prn_g.rn)\n",
    "odesys_g=convert(ODESystem,rn_g)\n",
    "reactioncomplexes(rn_g)\n",
    "odesys_g"
   ]
  },
  {
   "cell_type": "code",
   "execution_count": 33,
   "id": "b9f22cd1-4209-45f3-9844-ed3b9e92fc48",
   "metadata": {},
   "outputs": [
    {
     "data": {
      "text/plain": [
       "2"
      ]
     },
     "execution_count": 33,
     "metadata": {},
     "output_type": "execute_result"
    }
   ],
   "source": [
    "deficiency(rn_g)"
   ]
  }
 ],
 "metadata": {
  "kernelspec": {
   "display_name": "Julia 1.10.5",
   "language": "julia",
   "name": "julia-1.10"
  },
  "language_info": {
   "file_extension": ".jl",
   "mimetype": "application/julia",
   "name": "julia",
   "version": "1.10.5"
  }
 },
 "nbformat": 4,
 "nbformat_minor": 5
}
