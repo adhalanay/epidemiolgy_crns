{
 "cells": [
  {
   "cell_type": "code",
   "execution_count": 1,
   "id": "7e2e7dee-6d0d-4173-826b-7e05ad3f5bee",
   "metadata": {},
   "outputs": [
    {
     "name": "stdout",
     "output_type": "stream",
     "text": [
      "\n",
      "Welcome to Nemo version 0.45.7\n",
      "\n",
      "Nemo comes with absolutely no warranty whatsoever\n"
     ]
    }
   ],
   "source": [
    "using Catalyst\n",
    "using DifferentialEquations\n",
    "using WGLMakie\n",
    "using Latexify\n",
    "using Symbolics\n",
    "using Nemo"
   ]
  },
  {
   "cell_type": "code",
   "execution_count": 2,
   "id": "58b47f3b-4159-4ccf-890a-2895ddfcf278",
   "metadata": {},
   "outputs": [
    {
     "data": {
      "text/latex": [
       "$$ \\begin{align*}\n",
       "\\require{mhchem} \n",
       "\\mathrm{S} + \\mathrm{I} &\\xrightarrow{k1} 2 \\mathrm{I} \\\\\n",
       "\\mathrm{I} &\\xrightarrow{k2} \\mathrm{R} \\\\\n",
       "\\mathrm{R} &\\xrightleftharpoons[k4]{k3} \\mathrm{S}  \n",
       " \\end{align*}\n",
       " $$"
      ],
      "text/plain": [
       "\u001b[0m\u001b[1mModel ##ReactionSystem#231\u001b[22m\n",
       "\u001b[0m\u001b[1mUnknowns (3):\u001b[22m\n",
       "  S(t)\n",
       "  I(t)\n",
       "  R(t)\n",
       "\u001b[0m\u001b[1mParameters (4):\u001b[22m\n",
       "  k1\n",
       "  k2\n",
       "  k3\n",
       "  k4"
      ]
     },
     "execution_count": 2,
     "metadata": {},
     "output_type": "execute_result"
    }
   ],
   "source": [
    "@variables t\n",
    "@species S I R \n",
    "@parameters k1 k2 k3 k4\n",
    "rn = @reaction_network begin\n",
    "    k1, S+I --> 2I\n",
    "    k2, I--> R\n",
    "    k3, R --> S\n",
    "    k4, S --> R\n",
    "end"
   ]
  },
  {
   "cell_type": "code",
   "execution_count": 4,
   "id": "391fa0b1-4706-484a-8ad5-817914fcf7f4",
   "metadata": {},
   "outputs": [
    {
     "data": {
      "text/latex": [
       "$$ \\begin{align}\n",
       "\\frac{\\mathrm{d} S\\left( t \\right)}{\\mathrm{d}t} &= k3 R\\left( t \\right) - k4 S\\left( t \\right) - k1 S\\left( t \\right) I\\left( t \\right) \\\\\n",
       "\\frac{\\mathrm{d} I\\left( t \\right)}{\\mathrm{d}t} &=  - k2 I\\left( t \\right) + k1 S\\left( t \\right) I\\left( t \\right) \\\\\n",
       "\\frac{\\mathrm{d} R\\left( t \\right)}{\\mathrm{d}t} &= k2 I\\left( t \\right) - k3 R\\left( t \\right) + k4 S\\left( t \\right)\n",
       "\\end{align}\n",
       " $$"
      ],
      "text/plain": [
       "\u001b[0m\u001b[1mModel ##ReactionSystem#231 with 3 \u001b[22m\u001b[0m\u001b[1mequations\u001b[22m\n",
       "\u001b[0m\u001b[1mUnknowns (3):\u001b[22m\n",
       "  S(t)\n",
       "  I(t)\n",
       "  R(t)\n",
       "\u001b[0m\u001b[1mParameters (4):\u001b[22m\n",
       "  k1\n",
       "  k2\n",
       "  k3\n",
       "  k4"
      ]
     },
     "execution_count": 4,
     "metadata": {},
     "output_type": "execute_result"
    }
   ],
   "source": [
    "odesys=convert(ODESystem,rn) # the corresponding system of ODEs"
   ]
  },
  {
   "cell_type": "code",
   "execution_count": 8,
   "id": "9bcca06d-0abc-40e1-b1d2-8512156652aa",
   "metadata": {},
   "outputs": [
    {
     "data": {
      "text/plain": [
       "1"
      ]
     },
     "execution_count": 8,
     "metadata": {},
     "output_type": "execute_result"
    }
   ],
   "source": [
    "deficiency(rn)"
   ]
  },
  {
   "cell_type": "code",
   "execution_count": 20,
   "id": "0d43d01c-1bca-4524-921e-0851836f9849",
   "metadata": {},
   "outputs": [
    {
     "data": {
      "text/plain": [
       "3-element Vector{SymbolicUtils.BasicSymbolic{Real}}:\n",
       " k3*R(t) - k4*S(t) - k1*S(t)*I(t)\n",
       " -k2*I(t) + k1*S(t)*I(t)\n",
       " k2*I(t) - k3*R(t) + k4*S(t)"
      ]
     },
     "execution_count": 20,
     "metadata": {},
     "output_type": "execute_result"
    }
   ],
   "source": [
    "ve = [eq.rhs for eq in equations(odesys)]"
   ]
  },
  {
   "cell_type": "code",
   "execution_count": 5,
   "id": "448cd71e-735f-4813-842d-28b0ca693325",
   "metadata": {},
   "outputs": [
    {
     "data": {
      "text/latex": [
       "$$ \\begin{align}\n",
       "0 &= k3 R\\left( t \\right) - k4 S\\left( t \\right) - k1 S\\left( t \\right) I\\left( t \\right) \\\\\n",
       "0 &=  - k2 I\\left( t \\right) + k1 S\\left( t \\right) I\\left( t \\right) \\\\\n",
       "0 &= k2 I\\left( t \\right) - k3 R\\left( t \\right) + k4 S\\left( t \\right)\n",
       "\\end{align}\n",
       " $$"
      ],
      "text/plain": [
       "\u001b[0m\u001b[1mModel ##ReactionSystem#231 with 3 \u001b[22m\u001b[0m\u001b[1mequations\u001b[22m\n",
       "\u001b[0m\u001b[1mUnknowns (3):\u001b[22m\n",
       "  S(t)\n",
       "  I(t)\n",
       "  R(t)\n",
       "\u001b[0m\u001b[1mParameters (4):\u001b[22m\n",
       "  k1\n",
       "  k2\n",
       "  k3\n",
       "  k4"
      ]
     },
     "execution_count": 5,
     "metadata": {},
     "output_type": "execute_result"
    }
   ],
   "source": [
    "nsys = convert(NonlinearSystem, rn)"
   ]
  },
  {
   "cell_type": "code",
   "execution_count": 7,
   "id": "ce1852c4-38d4-429a-afeb-195dd2c2729e",
   "metadata": {},
   "outputs": [
    {
     "ename": "LoadError",
     "evalue": "KeyError: key S not found",
     "output_type": "error",
     "traceback": [
      "KeyError: key S not found",
      "",
      "Stacktrace:",
      "  [1] getindex",
      "    @ ./iddict.jl:108 [inlined]",
      "  [2] linearity_1",
      "    @ ~/.julia/packages/Symbolics/XnDVB/src/linearity.jl:57 [inlined]",
      "  [3] mark_vars(expr::SymbolicUtils.BasicSymbolic{Real}, vars::OrderedCollections.OrderedSet{Vector{SymbolicUtils.BasicSymbolic{Real}}})",
      "    @ Symbolics ~/.julia/packages/Symbolics/XnDVB/src/semipoly.jl:208",
      "  [4] (::Base.Fix2{typeof(Symbolics.mark_vars), OrderedCollections.OrderedSet{Vector{SymbolicUtils.BasicSymbolic{Real}}}})(y::SymbolicUtils.BasicSymbolic{Real})",
      "    @ Base ./operators.jl:1135",
      "  [5] iterate",
      "    @ ./generator.jl:47 [inlined]",
      "  [6] _collect(c::Vector{Any}, itr::Base.Generator{Vector{Any}, Base.Fix2{typeof(Symbolics.mark_vars), OrderedCollections.OrderedSet{Vector{SymbolicUtils.BasicSymbolic{Real}}}}}, ::Base.EltypeUnknown, isz::Base.HasShape{1})",
      "    @ Base ./array.jl:854",
      "  [7] collect_similar",
      "    @ ./array.jl:763 [inlined]",
      "  [8] map",
      "    @ ./abstractarray.jl:3285 [inlined]",
      "  [9] mark_vars(expr::SymbolicUtils.BasicSymbolic{Real}, vars::OrderedCollections.OrderedSet{Vector{SymbolicUtils.BasicSymbolic{Real}}})",
      "    @ Symbolics ~/.julia/packages/Symbolics/XnDVB/src/semipoly.jl:204",
      " [10] (::Base.Fix2{typeof(Symbolics.mark_vars), OrderedCollections.OrderedSet{Vector{SymbolicUtils.BasicSymbolic{Real}}}})(y::SymbolicUtils.BasicSymbolic{Real})",
      "    @ Base ./operators.jl:1135",
      " [11] iterate",
      "    @ ./generator.jl:47 [inlined]",
      " [12] _collect(c::Vector{Any}, itr::Base.Generator{Vector{Any}, Base.Fix2{typeof(Symbolics.mark_vars), OrderedCollections.OrderedSet{Vector{SymbolicUtils.BasicSymbolic{Real}}}}}, ::Base.EltypeUnknown, isz::Base.HasShape{1})",
      "    @ Base ./array.jl:854",
      " [13] collect_similar",
      "    @ ./array.jl:763 [inlined]",
      " [14] map",
      "    @ ./abstractarray.jl:3285 [inlined]",
      " [15] mark_vars(expr::SymbolicUtils.BasicSymbolic{Real}, vars::OrderedCollections.OrderedSet{Vector{SymbolicUtils.BasicSymbolic{Real}}})",
      "    @ Symbolics ~/.julia/packages/Symbolics/XnDVB/src/semipoly.jl:204",
      " [16] mark_and_exponentiate(expr::SymbolicUtils.BasicSymbolic{Real}, vars::OrderedCollections.OrderedSet{Vector{SymbolicUtils.BasicSymbolic{Real}}})",
      "    @ Symbolics ~/.julia/packages/Symbolics/XnDVB/src/semipoly.jl:144",
      " [17] semipolyform_terms(expr::SymbolicUtils.BasicSymbolic{Real}, vars::OrderedCollections.OrderedSet{Vector{SymbolicUtils.BasicSymbolic{Real}}})",
      "    @ Symbolics ~/.julia/packages/Symbolics/XnDVB/src/semipoly.jl:160",
      " [18] semipolynomial_form(expr::SymbolicUtils.BasicSymbolic{Real}, vars::Vector{Vector{SymbolicUtils.BasicSymbolic{Real}}}, degree::Float64; consts::Bool)",
      "    @ Symbolics ~/.julia/packages/Symbolics/XnDVB/src/semipoly.jl:264",
      " [19] semipolynomial_form",
      "    @ ~/.julia/packages/Symbolics/XnDVB/src/semipoly.jl:257 [inlined]",
      " [20] polynomial_coeffs(expr::SymbolicUtils.BasicSymbolic{Real}, vars::Vector{Vector{SymbolicUtils.BasicSymbolic{Real}}})",
      "    @ Symbolics ~/.julia/packages/Symbolics/XnDVB/src/semipoly.jl:301",
      " [21] check_poly_inunivar(poly::SymbolicUtils.BasicSymbolic{Real}, var::Vector{SymbolicUtils.BasicSymbolic{Real}})",
      "    @ Symbolics ~/.julia/packages/Symbolics/XnDVB/src/solver/solve_helpers.jl:97",
      " [22] symbolic_solve(expr::Vector{Equation}, x::Vector{SymbolicUtils.BasicSymbolic{Real}}; dropmultiplicity::Bool, warns::Bool)",
      "    @ Symbolics ~/.julia/packages/Symbolics/XnDVB/src/solver/main.jl:168",
      " [23] symbolic_solve(expr::Vector{Equation}, x::Vector{SymbolicUtils.BasicSymbolic{Real}})",
      "    @ Symbolics ~/.julia/packages/Symbolics/XnDVB/src/solver/main.jl:145",
      " [24] top-level scope",
      "    @ In[7]:1"
     ]
    }
   ],
   "source": [
    "symbolic_solve(equations(nsys), unknowns(nsys))"
   ]
  },
  {
   "cell_type": "code",
   "execution_count": 6,
   "id": "80bd0937-c85c-4b3f-81fc-4d629a7cb0e6",
   "metadata": {},
   "outputs": [
    {
     "data": {
      "text/plain": [
       "3-element Vector{SymbolicUtils.BasicSymbolic{Real}}:\n",
       " S(t)\n",
       " I(t)\n",
       " R(t)"
      ]
     },
     "execution_count": 6,
     "metadata": {},
     "output_type": "execute_result"
    }
   ],
   "source": [
    "unknowns(nsys)"
   ]
  },
  {
   "cell_type": "code",
   "execution_count": null,
   "id": "eb75aefe-f00a-4889-81a7-efebc959bb2f",
   "metadata": {},
   "outputs": [],
   "source": []
  }
 ],
 "metadata": {
  "kernelspec": {
   "display_name": "Julia 1.10.5",
   "language": "julia",
   "name": "julia-1.10"
  },
  "language_info": {
   "file_extension": ".jl",
   "mimetype": "application/julia",
   "name": "julia",
   "version": "1.10.5"
  }
 },
 "nbformat": 4,
 "nbformat_minor": 5
}
